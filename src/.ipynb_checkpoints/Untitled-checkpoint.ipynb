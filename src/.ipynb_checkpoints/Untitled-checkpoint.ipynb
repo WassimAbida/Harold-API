{
 "cells": [
  {
   "cell_type": "code",
   "execution_count": 1,
   "metadata": {},
   "outputs": [
    {
     "data": {
      "text/plain": [
       "'/home/abida/Desktop/empty_project/src'"
      ]
     },
     "execution_count": 1,
     "metadata": {},
     "output_type": "execute_result"
    }
   ],
   "source": [
    "pwd\n"
   ]
  },
  {
   "cell_type": "code",
   "execution_count": 2,
   "metadata": {},
   "outputs": [],
   "source": [
    "Path_to_models = '/home/abida/Desktop/empty_project/src/models/'"
   ]
  },
  {
   "cell_type": "code",
   "execution_count": 32,
   "metadata": {},
   "outputs": [
    {
     "data": {
      "text/plain": [
       "True"
      ]
     },
     "execution_count": 32,
     "metadata": {},
     "output_type": "execute_result"
    }
   ],
   "source": [
    "len(filename)!=0"
   ]
  },
  {
   "cell_type": "code",
   "execution_count": 75,
   "metadata": {},
   "outputs": [
    {
     "data": {
      "text/plain": [
       "(['vgg16', 'denoiseAE', 'convAE'],\n",
       " [['model_vgg16_transfer_learning.json', 'model_vgg16_transfer_learning.h5'],\n",
       "  ['classifier_model_DenoiseAE.json', 'classifier_model_DenoiseAE.h5'],\n",
       "  ['classifier_model_ConvAE.h5', 'classifier_model_ConvAE.json']])"
      ]
     },
     "execution_count": 75,
     "metadata": {},
     "output_type": "execute_result"
    }
   ],
   "source": [
    "import os\n",
    "paths=[]\n",
    "for root, dirs, files in os.walk(Path_to_models):\n",
    "    files_to_upload=[]\n",
    "    for filename in files:\n",
    "        files_to_upload.append(filename)\n",
    "    \n",
    "    if len(files_to_upload)!=0:\n",
    "        paths.append(files_to_upload)\n",
    "   \n",
    "    \n",
    "        \n",
    "models_availables = [x[1] for x in os.walk(Path_to_models)][0]\n",
    "\n",
    "models_availables,paths"
   ]
  },
  {
   "cell_type": "code",
   "execution_count": 15,
   "metadata": {},
   "outputs": [
    {
     "name": "stdout",
     "output_type": "stream",
     "text": [
      "['vgg16', 'denoiseAE', 'convAE']\n",
      "[]\n",
      "[]\n",
      "[]\n"
     ]
    }
   ],
   "source": [
    "for root, dirs, files in os.walk(Path_to_models):\n",
    "    print(dirs)"
   ]
  },
  {
   "cell_type": "code",
   "execution_count": 21,
   "metadata": {},
   "outputs": [
    {
     "data": {
      "text/plain": [
       "['vgg16', 'denoiseAE', 'convAE']"
      ]
     },
     "execution_count": 21,
     "metadata": {},
     "output_type": "execute_result"
    }
   ],
   "source": [
    "[x[1] for x in os.walk(Path_to_models)][0]"
   ]
  },
  {
   "cell_type": "code",
   "execution_count": 69,
   "metadata": {},
   "outputs": [
    {
     "data": {
      "text/plain": [
       "{'vgg16': {'model_vgg16_transfer_learning.h5',\n",
       "  'model_vgg16_transfer_learning.json'}}"
      ]
     },
     "execution_count": 69,
     "metadata": {},
     "output_type": "execute_result"
    }
   ],
   "source": [
    "DS = dict()\n",
    "i=0\n",
    "DS.update({models_availables[i] :{ paths[i][0],paths[i][1] } } )\n",
    "\n",
    "DS"
   ]
  },
  {
   "cell_type": "code",
   "execution_count": 74,
   "metadata": {},
   "outputs": [
    {
     "data": {
      "text/plain": [
       "'/home/abida/Desktop/empty_project/src/models/'"
      ]
     },
     "execution_count": 74,
     "metadata": {},
     "output_type": "execute_result"
    }
   ],
   "source": [
    "Path_to_models"
   ]
  },
  {
   "cell_type": "code",
   "execution_count": 78,
   "metadata": {},
   "outputs": [
    {
     "data": {
      "text/plain": [
       "{'convAE': {'classifier_model_ConvAE.h5', 'classifier_model_ConvAE.json'},\n",
       " 'denoiseAE': {'classifier_model_DenoiseAE.h5',\n",
       "  'classifier_model_DenoiseAE.json'},\n",
       " 'vgg16': {'model_vgg16_transfer_learning.h5',\n",
       "  'model_vgg16_transfer_learning.json'}}"
      ]
     },
     "execution_count": 78,
     "metadata": {},
     "output_type": "execute_result"
    }
   ],
   "source": [
    "dictio_models_creator(Path_to_models)"
   ]
  },
  {
   "cell_type": "code",
   "execution_count": 77,
   "metadata": {},
   "outputs": [],
   "source": [
    "import os\n",
    "def dictio_models_creator(Path_to_models):\n",
    "    DS = dict()\n",
    "    paths=[]\n",
    "    for root, dirs, files in os.walk(Path_to_models):\n",
    "        files_to_upload=[]\n",
    "        for filename in files:\n",
    "            files_to_upload.append(filename)\n",
    "        if len(files_to_upload)!=0:\n",
    "            paths.append(files_to_upload)\n",
    "    \n",
    "    models_availables = [x[1] for x in os.walk(Path_to_models)][0]\n",
    "    \n",
    "    for i in range(len(models_availables)):\n",
    "        DS.update({models_availables[i] :{ paths[i][0],paths[i][1] } } )\n",
    "        \n",
    "    return DS\n",
    "    "
   ]
  },
  {
   "cell_type": "code",
   "execution_count": 72,
   "metadata": {},
   "outputs": [
    {
     "data": {
      "text/plain": [
       "{'convAE': {'classifier_model_ConvAE.h5', 'classifier_model_ConvAE.json'},\n",
       " 'denoiseAE': {'classifier_model_DenoiseAE.h5',\n",
       "  'classifier_model_DenoiseAE.json'},\n",
       " 'vgg16': {'model_vgg16_transfer_learning.h5',\n",
       "  'model_vgg16_transfer_learning.json'}}"
      ]
     },
     "execution_count": 72,
     "metadata": {},
     "output_type": "execute_result"
    }
   ],
   "source": [
    "Dictio_models = dictio_models_creator(models_availables,paths)\n",
    "Dictio_models"
   ]
  },
  {
   "cell_type": "code",
   "execution_count": null,
   "metadata": {},
   "outputs": [],
   "source": []
  }
 ],
 "metadata": {
  "kernelspec": {
   "display_name": "Python 3",
   "language": "python",
   "name": "python3"
  },
  "language_info": {
   "codemirror_mode": {
    "name": "ipython",
    "version": 3
   },
   "file_extension": ".py",
   "mimetype": "text/x-python",
   "name": "python",
   "nbconvert_exporter": "python",
   "pygments_lexer": "ipython3",
   "version": "3.5.2"
  }
 },
 "nbformat": 4,
 "nbformat_minor": 2
}
